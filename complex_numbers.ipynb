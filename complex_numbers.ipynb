{
 "cells": [
  {
   "cell_type": "code",
   "execution_count": 4,
   "metadata": {},
   "outputs": [
    {
     "name": "stdout",
     "output_type": "stream",
     "text": [
      "(2-2j)\n"
     ]
    }
   ],
   "source": [
    "import math\n",
    "\n",
    "def conjugate(z):\n",
    "    a = z.real\n",
    "    b = z.imag\n",
    "    b = -b\n",
    "    if b < 0:\n",
    "        return complex(f'{a}{b}j')\n",
    "    else:\n",
    "        return complex(f'{a}+{b}j')\n",
    "\n",
    "a = -4-2j\n",
    "b = 2+2j\n",
    "\n",
    "\n",
    "print(conjugate(b))\n"
   ]
  },
  {
   "cell_type": "code",
   "execution_count": 17,
   "metadata": {},
   "outputs": [
    {
     "name": "stdout",
     "output_type": "stream",
     "text": [
      "((2-3j), (-2+3j))\n",
      "((3-4j), (-3+4j))\n"
     ]
    }
   ],
   "source": [
    "import math\n",
    "\n",
    "w = -7+24j\n",
    "\n",
    "def sqrt_complex(w):\n",
    "    a = w.real\n",
    "    b = w.imag\n",
    "    c = math.sqrt((abs(w) + a) / 2)\n",
    "    if b != 0:\n",
    "        d = (b/abs(b)) * math.sqrt((abs(w) - a) / 2)\n",
    "    else:\n",
    "        d = 0\n",
    "\n",
    "    if d >= 0 :\n",
    "        return complex(str(c) + '+' + str(d)+'j'),-complex(str(c) + '+' + str(d)+'j')\n",
    "    if d < 0 :\n",
    "        return complex(str(c) + str(d)+'j'),-complex(str(c) + str(d)+'j')\n",
    "\n",
    "print(sqrt_complex(-5-12j))\n",
    "print(sqrt_complex(w.conjugate()))"
   ]
  },
  {
   "cell_type": "code",
   "execution_count": 6,
   "metadata": {},
   "outputs": [
    {
     "name": "stdout",
     "output_type": "stream",
     "text": [
      "(2.8284271247461903, -0.7853981633974483)\n"
     ]
    }
   ],
   "source": [
    "import cmath\n",
    "z = 2-2j\n",
    "w = 7+22j\n",
    "\n",
    "print(cmath.polar(z))\n"
   ]
  },
  {
   "cell_type": "code",
   "execution_count": 7,
   "metadata": {},
   "outputs": [
    {
     "name": "stdout",
     "output_type": "stream",
     "text": [
      "[(5+3j), (3-2j)]\n"
     ]
    }
   ],
   "source": [
    "def quadratic(a,b,c):\n",
    "    return [(-b + result)/(2*a) for result in sqrt_complex((b**2) - (4*a*c)) ]\n",
    "\n",
    "\n",
    "print(quadratic(1,-8-1j,21-1j))\n"
   ]
  },
  {
   "cell_type": "code",
   "execution_count": 6,
   "metadata": {},
   "outputs": [
    {
     "name": "stdout",
     "output_type": "stream",
     "text": [
      "[(1.868423874741532-0.29592926968993905j), (0.3284926910879131+1.8629746268441774j), (-1.8629746268441774+0.32849269108791285j), (-0.32849269108791296-1.8629746268441774j)]\n"
     ]
    }
   ],
   "source": [
    "import math\n",
    "\n",
    "def polar_form(z):\n",
    "    a = z.real\n",
    "    b = z.imag\n",
    "    r = math.sqrt(a**2 + b**2)\n",
    "    theta = math.atan(b/a)\n",
    "    theta = math.degrees(theta)\n",
    "\n",
    "    if a == 0 and b > 0:\n",
    "        return(abs(b),90)\n",
    "    if a == 0 and b < 0:\n",
    "        return(abs(b),270)\n",
    "    if a > 0 and b == 0:\n",
    "        return(abs(a),360)\n",
    "    if a < 0 and b == 0:\n",
    "        return(abs(a),180)\n",
    "\n",
    "    return r,theta\n",
    "\n",
    "def standart_form(r,theta):\n",
    "    theta = math.radians(theta)\n",
    "    a = r * math.cos(theta)\n",
    "    b = r * math.sin(theta)\n",
    "\n",
    "    if a<=0.000000001 and a >= -0.000000001:\n",
    "        a=0\n",
    "    if b<0.0000001 and b >= -0.0000001:\n",
    "        b=0\n",
    "    if b >= 0:\n",
    "        return complex(f'{a}+{b}j')\n",
    "    elif b < 0:\n",
    "        return complex(f'{a}{b}j')\n",
    "\n",
    "def nth_root_complex(z,n):\n",
    "    z = polar_form(z)\n",
    "    r = (z[0])**(1/n)\n",
    "    theta = z[1]\n",
    "    \n",
    "    angles = []\n",
    "    for angle in range(n):\n",
    "        angles.append(theta/n + ((360 / n) * angle))\n",
    "    #print(r,angles)\n",
    "    \n",
    "    roots = []\n",
    "    for angle in angles:\n",
    "        roots.append(standart_form(r,int(angle)))\n",
    "    return roots\n",
    "\n",
    "    \n",
    "\n",
    "\n",
    "\n",
    "print(nth_root_complex(10-8j,4))\n",
    "\n",
    "\n"
   ]
  }
 ],
 "metadata": {
  "kernelspec": {
   "display_name": "Python 3",
   "language": "python",
   "name": "python3"
  },
  "language_info": {
   "codemirror_mode": {
    "name": "ipython",
    "version": 3
   },
   "file_extension": ".py",
   "mimetype": "text/x-python",
   "name": "python",
   "nbconvert_exporter": "python",
   "pygments_lexer": "ipython3",
   "version": "3.10.9"
  },
  "orig_nbformat": 4,
  "vscode": {
   "interpreter": {
    "hash": "49e6a472d3d912bc092f445263a3c56fbee2c45395b8ad406f862246c25053cd"
   }
  }
 },
 "nbformat": 4,
 "nbformat_minor": 2
}
