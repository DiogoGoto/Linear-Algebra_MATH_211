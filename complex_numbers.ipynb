{
 "cells": [
  {
   "cell_type": "code",
   "execution_count": 4,
   "metadata": {},
   "outputs": [
    {
     "name": "stdout",
     "output_type": "stream",
     "text": [
      "(2-2j)\n"
     ]
    }
   ],
   "source": [
    "import math\n",
    "\n",
    "def conjugate(z):\n",
    "    a = z.real\n",
    "    b = z.imag\n",
    "    b = -b\n",
    "    if b < 0:\n",
    "        return complex(f'{a}{b}j')\n",
    "    else:\n",
    "        return complex(f'{a}+{b}j')\n",
    "\n",
    "a = -4-2j\n",
    "b = 2+2j\n",
    "\n",
    "\n",
    "print(conjugate(b))\n"
   ]
  },
  {
   "cell_type": "code",
   "execution_count": 17,
   "metadata": {},
   "outputs": [
    {
     "name": "stdout",
     "output_type": "stream",
     "text": [
      "((2-3j), (-2+3j))\n",
      "((3-4j), (-3+4j))\n"
     ]
    }
   ],
   "source": [
    "import math\n",
    "\n",
    "w = -7+24j\n",
    "\n",
    "def sqrt_complex(w):\n",
    "    a = w.real\n",
    "    b = w.imag\n",
    "    c = math.sqrt((abs(w) + a) / 2)\n",
    "    if b != 0:\n",
    "        d = (b/abs(b)) * math.sqrt((abs(w) - a) / 2)\n",
    "    else:\n",
    "        d = 0\n",
    "\n",
    "    if d >= 0 :\n",
    "        return complex(str(c) + '+' + str(d)+'j'),-complex(str(c) + '+' + str(d)+'j')\n",
    "    if d < 0 :\n",
    "        return complex(str(c) + str(d)+'j'),-complex(str(c) + str(d)+'j')\n",
    "\n",
    "print(sqrt_complex(-5-12j))\n",
    "print(sqrt_complex(w.conjugate()))"
   ]
  },
  {
   "cell_type": "code",
   "execution_count": 6,
   "metadata": {},
   "outputs": [
    {
     "name": "stdout",
     "output_type": "stream",
     "text": [
      "(2.8284271247461903, -0.7853981633974483)\n"
     ]
    }
   ],
   "source": [
    "import cmath\n",
    "z = 2-2j\n",
    "w = 7+22j\n",
    "\n",
    "print(cmath.polar(z))\n"
   ]
  },
  {
   "cell_type": "code",
   "execution_count": 7,
   "metadata": {},
   "outputs": [
    {
     "name": "stdout",
     "output_type": "stream",
     "text": [
      "[(5+3j), (3-2j)]\n"
     ]
    }
   ],
   "source": [
    "def quadratic(a,b,c):\n",
    "    return [(-b + result)/(2*a) for result in sqrt_complex((b**2) - (4*a*c)) ]\n",
    "\n",
    "\n",
    "print(quadratic(1,-8-1j,21-1j))\n",
    "#print((5+8j)**2,-4*(-9+21j),(5+8j)**2-4*(-9+21j))\n",
    "#print(sqrt_complex((5+8j)**2-4*(-9+21j)))"
   ]
  },
  {
   "cell_type": "code",
   "execution_count": 18,
   "metadata": {},
   "outputs": [
    {
     "name": "stdout",
     "output_type": "stream",
     "text": [
      "[27, 90]\n",
      "22.5\n",
      "112.5\n",
      "202.5\n",
      "292.5\n",
      "2.2795070569547775 [22.5, 112.5, 202.5, 292.5]\n",
      "[(2.113522139579524+0.8539183732733605j), (-0.8539183732733606+2.113522139579524j), (-2.113522139579524-0.8539183732733605j), (0.8539183732733604-2.113522139579524j)]\n"
     ]
    }
   ],
   "source": [
    "import math\n",
    "\n",
    "def polar_form(z):\n",
    "    a = z.real\n",
    "    b = z.imag\n",
    "    r = math.sqrt(a**2 + b**2)\n",
    "    theta = math.atan(b/a)\n",
    "    theta = math.degrees(theta)\n",
    "\n",
    "    if a == 0 and b > 0:\n",
    "        return(abs(b),90)\n",
    "    if a == 0 and b < 0:\n",
    "        return(abs(b),270)\n",
    "    if a > 0 and b == 0:\n",
    "        return(abs(a),360)\n",
    "    if a < 0 and b == 0:\n",
    "        return(abs(a),180)\n",
    "\n",
    "    return r,theta\n",
    "\n",
    "def standart_form(r,theta):\n",
    "    theta = math.radians(theta)\n",
    "    a = r * math.cos(theta)\n",
    "    b = r * math.sin(theta)\n",
    "\n",
    "    if a<=0.000000001 and a >= -0.000000001:\n",
    "        a=0\n",
    "    if b<0.0000001 and b >= -0.0000001:\n",
    "        b=0\n",
    "    if b >= 0:\n",
    "        return complex(f'{a}+{b}j')\n",
    "    elif b < 0:\n",
    "        return complex(f'{a}{b}j')\n",
    "\n",
    "def nth_root_complex(z,n):\n",
    "    #z = polar_form(z)\n",
    "    #r = (z[0])**(1/n)\n",
    "    z = [27,90]\n",
    "    r = (27)**(1/n)\n",
    "    theta = z[1]\n",
    "    \n",
    "   \n",
    "    print(z)\n",
    "    angles = []\n",
    "    for angle in range(n):\n",
    "        angles.append(theta/n + ((360 / n) * angle))\n",
    "        print(angles[-1])\n",
    "    print(r,angles)\n",
    "    \n",
    "    roots = []\n",
    "    for angle in angles:\n",
    "        roots.append(standart_form(r,int(angle)))\n",
    "    return roots\n",
    "\n",
    "\n",
    "def quiz7(Vm1,theta1, Vm2,theta2, R3):\n",
    "    theta2 -= 90\n",
    "    i1 = standart_form(Vm1, theta1)\n",
    "    i2 = standart_form(Vm2, theta2)\n",
    "    ix = -(i1-i2)\n",
    "\n",
    "    ix = polar_form(ix)\n",
    "\n",
    "    return round((ix[0]*R3)/math.sqrt(2),4)\n",
    "    \n",
    "\n",
    "\n",
    "#print(polar_form(complex(f'{(3*math.sqrt(3))/2}+{3/2}j')))\n",
    "#print(standart_form(3,45))\n",
    "#print(standart_form(5,-165))\n",
    "print(nth_root_complex(0-8j,4))\n",
    "#print(quiz7(5,80,5,-50,4))\n",
    "\n"
   ]
  },
  {
   "cell_type": "code",
   "execution_count": 9,
   "metadata": {},
   "outputs": [
    {
     "name": "stdout",
     "output_type": "stream",
     "text": [
      "0.0021679483388678798j\n",
      "734.1270095716733\n",
      "-0.5625190292859056j\n"
     ]
    }
   ],
   "source": [
    "L = 0.1\n",
    "C = 4.7*10**(-7)\n",
    "R = 820\n",
    "\n",
    "O = math.sqrt(1/(L*C))\n",
    "f0 = O/(math.pi * 2)\n",
    "Zc = complex(f'0+{O*C}j')\n",
    "print(Zc)\n",
    "Zc = 1/(Zc)\n",
    "Zl = complex(f'0+{O*L}j')\n",
    "sum = Zc+ Zl +R\n",
    "print(f0)\n",
    "print(Zc/(R))"
   ]
  },
  {
   "cell_type": "code",
   "execution_count": 14,
   "metadata": {},
   "outputs": [
    {
     "name": "stdout",
     "output_type": "stream",
     "text": [
      "(-45+5j)\n"
     ]
    }
   ],
   "source": [
    "#sqrt_complex((-8-1j)**2 -4*(21-1j))\n",
    "print((-5-4j)*(5-5j))"
   ]
  }
 ],
 "metadata": {
  "kernelspec": {
   "display_name": "Python 3",
   "language": "python",
   "name": "python3"
  },
  "language_info": {
   "codemirror_mode": {
    "name": "ipython",
    "version": 3
   },
   "file_extension": ".py",
   "mimetype": "text/x-python",
   "name": "python",
   "nbconvert_exporter": "python",
   "pygments_lexer": "ipython3",
   "version": "3.10.9"
  },
  "orig_nbformat": 4,
  "vscode": {
   "interpreter": {
    "hash": "49e6a472d3d912bc092f445263a3c56fbee2c45395b8ad406f862246c25053cd"
   }
  }
 },
 "nbformat": 4,
 "nbformat_minor": 2
}
